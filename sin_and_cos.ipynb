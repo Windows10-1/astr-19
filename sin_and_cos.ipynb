{
 "cells": [
  {
   "cell_type": "code",
   "execution_count": 1,
   "id": "1b22400b-3e7e-4d2a-a7b7-5101379718b1",
   "metadata": {},
   "outputs": [],
   "source": [
    "import numpy as np"
   ]
  },
  {
   "cell_type": "markdown",
   "id": "dda56a85-731c-47dc-98d2-8d905ec160a0",
   "metadata": {},
   "source": [
    "sin function. returns sin of x"
   ]
  },
  {
   "cell_type": "code",
   "execution_count": 2,
   "id": "8d07768e-22c7-415e-97eb-fdfe64dbdc03",
   "metadata": {},
   "outputs": [],
   "source": [
    "def sign(x):\n",
    "    return np.sin(x)"
   ]
  },
  {
   "cell_type": "markdown",
   "id": "92f7a4e3-4b34-426d-97c1-2e384b09a2fa",
   "metadata": {},
   "source": [
    "cos function. returns cos of x"
   ]
  },
  {
   "cell_type": "code",
   "execution_count": 3,
   "id": "08290af7-feca-4e81-8a10-17ce21dff131",
   "metadata": {},
   "outputs": [],
   "source": [
    "def co_sign(x):\n",
    "    return np.cos(x)"
   ]
  },
  {
   "cell_type": "markdown",
   "id": "283e99f0-40e2-4f6c-aa1f-b5ef38f0bdda",
   "metadata": {},
   "source": [
    "Creates an array \"x\" to hold our 1000 values from 0 to 2pi. Sin and cos then copy the array while also taking the sin and cos respectively. "
   ]
  },
  {
   "cell_type": "code",
   "execution_count": 4,
   "id": "fafa0d8b-5a21-48da-8e39-8ce364a80367",
   "metadata": {},
   "outputs": [],
   "source": [
    "x = np.linspace(0,2*np.pi, 1000)\n",
    "sinx = sign(np.copy(x))\n",
    "cosinx = co_sign(np.copy(x))"
   ]
  },
  {
   "cell_type": "markdown",
   "id": "addfd43d-193d-404f-bed5-c6eb1dd434a5",
   "metadata": {},
   "source": [
    "loops 10 times to print 10 lines of x, sinx, and cosx. Uses f-string to print values. "
   ]
  },
  {
   "cell_type": "code",
   "execution_count": 6,
   "id": "6333f1bd-6117-44ef-b6cb-b1cf699b2e6d",
   "metadata": {
    "scrolled": true
   },
   "outputs": [
    {
     "name": "stdout",
     "output_type": "stream",
     "text": [
      "X: 0.000000 | Sin(x): 0.000000 | Cos(x): 1.000000\n",
      "X: 0.006289 | Sin(x): 0.006289 | Cos(x): 0.999980\n",
      "X: 0.012579 | Sin(x): 0.012579 | Cos(x): 0.999921\n",
      "X: 0.018868 | Sin(x): 0.018867 | Cos(x): 0.999822\n",
      "X: 0.025158 | Sin(x): 0.025155 | Cos(x): 0.999684\n",
      "X: 0.031447 | Sin(x): 0.031442 | Cos(x): 0.999506\n",
      "X: 0.037737 | Sin(x): 0.037728 | Cos(x): 0.999288\n",
      "X: 0.044026 | Sin(x): 0.044012 | Cos(x): 0.999031\n",
      "X: 0.050316 | Sin(x): 0.050295 | Cos(x): 0.998734\n",
      "X: 0.056605 | Sin(x): 0.056575 | Cos(x): 0.998398\n"
     ]
    }
   ],
   "source": [
    "for i in range(10):\n",
    "    print(f\"X: {x[i]:.6f} | Sin(x): {sinx[i]:.6f} | Cos(x): {cosinx[i]:.6f}\")"
   ]
  },
  {
   "cell_type": "code",
   "execution_count": null,
   "id": "5e0a4853-89f3-46a4-b407-1687f9deb270",
   "metadata": {},
   "outputs": [],
   "source": []
  }
 ],
 "metadata": {
  "kernelspec": {
   "display_name": "Python 3 (ipykernel)",
   "language": "python",
   "name": "python3"
  },
  "language_info": {
   "codemirror_mode": {
    "name": "ipython",
    "version": 3
   },
   "file_extension": ".py",
   "mimetype": "text/x-python",
   "name": "python",
   "nbconvert_exporter": "python",
   "pygments_lexer": "ipython3",
   "version": "3.11.5"
  }
 },
 "nbformat": 4,
 "nbformat_minor": 5
}
